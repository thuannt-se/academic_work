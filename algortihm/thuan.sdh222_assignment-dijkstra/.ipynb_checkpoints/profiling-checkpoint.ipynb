{
 "cells": [
  {
   "cell_type": "code",
   "execution_count": 1,
   "id": "887531cb-7e51-4ecd-8873-c7dc33b5401a",
   "metadata": {},
   "outputs": [
    {
     "name": "stdout",
     "output_type": "stream",
     "text": [
      "Wrote profile results to test_dijkstra.py.lprof\n"
     ]
    }
   ],
   "source": [
    "!kernprof -l test_dijkstra.py"
   ]
  },
  {
   "cell_type": "code",
   "execution_count": 2,
   "id": "caab0bec-4b48-4a03-9136-2cc710b2db48",
   "metadata": {},
   "outputs": [
    {
     "name": "stdout",
     "output_type": "stream",
     "text": [
      "Timer unit: 1e-06 s\n",
      "\n",
      "Total time: 40.9893 s\n",
      "File: /Users/hoai/Documents/teaching/graduate/courses/advanced-algorithms/2022-2023-HK2/Examples/naive_dijkstra.py\n",
      "Function: naive_dijkstra at line 6\n",
      "\n",
      "Line #      Hits         Time  Per Hit   % Time  Line Contents\n",
      "==============================================================\n",
      "     6                                           @profile\n",
      "     7                                           def naive_dijkstra(graph, root):\n",
      "     8         1          2.0      2.0      0.0      n = len(graph)\n",
      "     9                                           \n",
      "    10                                               # initialize distance list as all infinities\n",
      "    11         1        591.0    591.0      0.0      dist = [Inf for _ in range(n)]\n",
      "    12                                               # set the distance for the root to be 0\n",
      "    13         1          1.0      1.0      0.0      dist[root] = 0\n",
      "    14                                               # initialize list of visited nodes\n",
      "    15         1        534.0    534.0      0.0      visited = [False for _ in range(n)]\n",
      "    16                                           \n",
      "    17                                               # loop through all the nodes\n",
      "    18      8577       2269.0      0.3      0.0      for _ in range(n):\n",
      "    19                                                   # \"start\" our node as -1 (so we don't have a start node yet)\n",
      "    20      8577       2066.0      0.2      0.0          u = -1\n",
      "    21                                                   # loop through all the nodes to check for visitation status\n",
      "    22  77201577   18604580.0      0.2     45.4          for i in range(n):\n",
      "    23                                                       # if the node 'i' hasn't been visited and\n",
      "    24                                                       # we haven't processed it or the distance we have for it is less\n",
      "    25                                                       # than the distance we have to the \"start\" node\n",
      "    26  77193000   22012494.0      0.3     53.7              if not visited[i] and (u == -1 or dist[i] < dist[u]):\n",
      "    27     85216      20915.0      0.2      0.1                  u = i\n",
      "    28                                                           \n",
      "    29                                                   # all the nodes have been visited or we can't reach this node\n",
      "    30      8577       2638.0      0.3      0.0          if dist[u] == Inf:\n",
      "    31         1          0.0      0.0      0.0              break\n",
      "    32                                                   # set the node as visited\n",
      "    33      8576       2319.0      0.3      0.0          visited[u] = True\n",
      "    34                                                   # compare the distance to each node from the \"start\" node\n",
      "    35                                                   # to the distance we currently have on file for it\n",
      "    36    377471     221506.0      0.6      0.5          for v, l in graph[u]:\n",
      "    37    368895     114018.0      0.3      0.3              if dist[u] + l < dist[v]:\n",
      "    38     18225       5412.0      0.3      0.0                  dist[v] = dist[u] + l\n",
      "    39         1          0.0      0.0      0.0      return dist\n",
      "\n"
     ]
    }
   ],
   "source": [
    "!python -m line_profiler test_dijkstra.py.lprof"
   ]
  },
  {
   "cell_type": "code",
   "execution_count": null,
   "id": "8dbba696-2bd6-4891-bbe7-3cc7a394eb27",
   "metadata": {},
   "outputs": [],
   "source": []
  }
 ],
 "metadata": {
  "kernelspec": {
   "display_name": "Python 3 (ipykernel)",
   "language": "python",
   "name": "python3"
  },
  "language_info": {
   "codemirror_mode": {
    "name": "ipython",
    "version": 3
   },
   "file_extension": ".py",
   "mimetype": "text/x-python",
   "name": "python",
   "nbconvert_exporter": "python",
   "pygments_lexer": "ipython3",
   "version": "3.9.13"
  }
 },
 "nbformat": 4,
 "nbformat_minor": 5
}
