{
 "cells": [
  {
   "cell_type": "code",
   "execution_count": 4,
   "id": "arabic-latin",
   "metadata": {},
   "outputs": [],
   "source": [
    "import networkx as nx\n",
    "import sys"
   ]
  },
  {
   "cell_type": "code",
   "execution_count": 5,
   "id": "expected-output",
   "metadata": {},
   "outputs": [],
   "source": [
    "G = nx.read_graphml( \"R1-c1-0.graphml\" )"
   ]
  },
  {
   "cell_type": "code",
   "execution_count": 6,
   "id": "hybrid-assembly",
   "metadata": {},
   "outputs": [],
   "source": [
    "with open('R1-c1-0.mod', 'w') as f:\n",
    "    # start writing to the file\n",
    "    print( \"data;\", file=f )\n",
    "    print( \"set CLUSTERS := \", file=f )\n",
    "    print( \"\\tA\", file=f )\n",
    "    print( \"\\tB\", file=f )\n",
    "    print( \";\", file=f )\n",
    "    \n",
    "    print( \"set VERTS := \", file=f )\n",
    "    for n in G.nodes:\n",
    "        print( \"\\t%s\" % (n), file=f )\n",
    "    print( \";\", file=f )\n",
    "    print( \"\\nset EDGES := \", file=f )\n",
    "    for e in G.edges:\n",
    "        print( \"\\t%s\\t%s\" % (e[0], e[1]), file=f )\n",
    "    print( \";\", file=f )\n",
    "    print( \"\\nend;\", file=f )"
   ]
  },
  {
   "cell_type": "code",
   "execution_count": null,
   "id": "technological-morning",
   "metadata": {},
   "outputs": [],
   "source": []
  }
 ],
 "metadata": {
  "kernelspec": {
   "display_name": "Python 3",
   "language": "python",
   "name": "python3"
  },
  "language_info": {
   "codemirror_mode": {
    "name": "ipython",
    "version": 3
   },
   "file_extension": ".py",
   "mimetype": "text/x-python",
   "name": "python",
   "nbconvert_exporter": "python",
   "pygments_lexer": "ipython3",
   "version": "3.9.10"
  }
 },
 "nbformat": 4,
 "nbformat_minor": 5
}
